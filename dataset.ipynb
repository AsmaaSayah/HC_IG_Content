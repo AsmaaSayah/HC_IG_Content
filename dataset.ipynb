{
 "cells": [
  {
   "cell_type": "code",
   "execution_count": null,
   "metadata": {
    "vscode": {
     "languageId": "plaintext"
    }
   },
   "outputs": [],
   "source": [
    "!pip install google-play-scraper"
   ]
  },
  {
   "cell_type": "code",
   "execution_count": null,
   "metadata": {
    "vscode": {
     "languageId": "plaintext"
    }
   },
   "outputs": [],
   "source": [
    "###############################################################################\n",
    "# STEP 1: INSTALL THE LIBRARY\n",
    "###############################################################################\n",
    "# If you haven't installed 'google-play-scraper' yet, uncomment and run this:\n",
    "# !pip install google-play-scraper\n",
    "\n",
    "###############################################################################\n",
    "# STEP 2: IMPORT LIBRARIES\n",
    "###############################################################################\n",
    "import pandas as pd\n",
    "from google_play_scraper import reviews_all, Sort\n",
    "\n",
    "###############################################################################\n",
    "# STEP 3: SCRAPE GOOGLE PLAY REVIEWS\n",
    "###############################################################################\n",
    "# Specify the app's package name (e.g., Instagram is 'com.instagram.android').\n",
    "# 'reviews_all' returns a list of dictionaries where each dict is one review.\n",
    "app_package_name = \"com.instagram.android\"\n",
    "\n",
    "# Fetch all reviews (or as many as are accessible) with relevant parameters:\n",
    "reviews = reviews_all(\n",
    "    app_package_name,\n",
    "    sleep_milliseconds=0,   # pause between requests; 0 = no sleep\n",
    "    lang='en',             # language of reviews\n",
    "    country='us',          # country of the reviews\n",
    "    sort=Sort.NEWEST       # sort by NEWEST, RATING, HELPFULNESS, etc.\n",
    ")\n",
    "\n",
    "###############################################################################\n",
    "# STEP 4: CONVERT THE REVIEWS INTO A DATAFRAME\n",
    "###############################################################################\n",
    "df = pd.DataFrame(reviews)\n",
    "print(f\"Number of reviews imported: {len(df)}\\n\")\n",
    "\n",
    "# Display the first few rows to verify\n",
    "print(df.head())\n",
    "\n",
    "###############################################################################\n",
    "# STEP 5 (OPTIONAL): SAVE TO CSV\n",
    "###############################################################################\n",
    "# If you want to save your data for later analysis, do this:\n",
    "csv_filename = \"google_play_reviews.csv\"\n",
    "df.to_csv(csv_filename, index=False)\n",
    "print(f\"\\nReviews saved to {csv_filename}\")\n"
   ]
  }
 ],
 "metadata": {
  "language_info": {
   "name": "python"
  }
 },
 "nbformat": 4,
 "nbformat_minor": 2
}
